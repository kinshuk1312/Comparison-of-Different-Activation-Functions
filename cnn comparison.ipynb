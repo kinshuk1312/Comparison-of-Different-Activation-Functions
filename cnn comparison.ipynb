{
  "nbformat": 4,
  "nbformat_minor": 0,
  "metadata": {
    "colab": {
      "name": "18BCS6019_DL_expr-2.ipynb",
      "provenance": []
    },
    "kernelspec": {
      "name": "python3",
      "display_name": "Python 3"
    }
  },
  "cells": [
    {
      "cell_type": "markdown",
      "metadata": {
        "id": "0fj5txe8Wno8"
      },
      "source": [
        "## Kinshuk Jagdev \n",
        "\n",
        "# Comparing Different Activation Functions\n",
        "### Dataset Used: MNIST"
      ]
    },
    {
      "cell_type": "code",
      "metadata": {
        "id": "rQhVLTO9DuA0"
      },
      "source": [
        "#importing required libraries\n",
        "import numpy as np\n",
        "import matplotlib.pyplot as plt\n",
        "\n",
        "#getting keras for model building\n",
        "from keras.models import Sequential\n",
        "from keras.layers import Dense\n",
        "from keras.utils import np_utils\n",
        "\n",
        "#loading mnist dataset\n",
        "from keras.datasets import mnist"
      ],
      "execution_count": null,
      "outputs": []
    },
    {
      "cell_type": "code",
      "metadata": {
        "colab": {
          "base_uri": "https://localhost:8080/"
        },
        "id": "AODWrv0-D2Wa",
        "outputId": "48ce9df9-7337-464c-bb6f-db273262daf6"
      },
      "source": [
        "#getting training and testing data\n",
        "\n",
        "(X_train, y_train), (X_test, y_test) = mnist.load_data()"
      ],
      "execution_count": null,
      "outputs": [
        {
          "output_type": "stream",
          "text": [
            "Downloading data from https://storage.googleapis.com/tensorflow/tf-keras-datasets/mnist.npz\n",
            "11493376/11490434 [==============================] - 0s 0us/step\n"
          ],
          "name": "stdout"
        }
      ]
    },
    {
      "cell_type": "code",
      "metadata": {
        "id": "txsZeIipEFIy"
      },
      "source": [
        "#setting input data for analysis\n",
        "num_of_pixels = X_train.shape[1] * X_train.shape[2]\n",
        "X_train = X_train.reshape(X_train.shape[0], num_of_pixels).astype('float32')\n",
        "X_test = X_test.reshape(X_test.shape[0], num_of_pixels).astype('float32')\n",
        "X_train = X_train / 255\n",
        "X_test = X_test / 255\n",
        "\n",
        "#converting into categorical form\n",
        "y_train = np_utils.to_categorical(y_train)\n",
        "y_test = np_utils.to_categorical(y_test)\n",
        "num_classes = y_test.shape[1]"
      ],
      "execution_count": null,
      "outputs": []
    },
    {
      "cell_type": "code",
      "metadata": {
        "id": "V0pKUPRsEHS7"
      },
      "source": [
        "#creating model\n",
        "#First we will test sigmoid function in hidden layer\n",
        "sigmoid_model = Sequential()"
      ],
      "execution_count": null,
      "outputs": []
    },
    {
      "cell_type": "code",
      "metadata": {
        "id": "uE0M36vfESW3"
      },
      "source": [
        "#adding hidden layers to model\n",
        "\n",
        "sigmoid_model.add(Dense(650, input_dim=num_of_pixels, activation='sigmoid'))\n",
        "sigmoid_model.add(Dense(150, activation='sigmoid'))\n",
        "\n",
        "#adding output layer, using softmax activation function for multiclassification\n",
        "sigmoid_model.add(Dense(num_classes, activation='softmax'))"
      ],
      "execution_count": null,
      "outputs": []
    },
    {
      "cell_type": "code",
      "metadata": {
        "id": "2yEQmgulElM7"
      },
      "source": [
        "sigmoid_model.compile(loss='categorical_crossentropy', optimizer='adam', metrics=['accuracy'])"
      ],
      "execution_count": null,
      "outputs": []
    },
    {
      "cell_type": "code",
      "metadata": {
        "colab": {
          "base_uri": "https://localhost:8080/"
        },
        "id": "sF_xTgQ8Er8z",
        "outputId": "d5546b68-5dcc-49f4-d173-cd5eb65222c2"
      },
      "source": [
        "sigmoid_history = sigmoid_model.fit(X_train, y_train, validation_data=(X_test, y_test), epochs=5, batch_size=100)\n",
        "\n",
        "#finding scores\n",
        "scores = sigmoid_model.evaluate(X_test, y_test)\n",
        "\n",
        "#finally checking baseline error\n",
        "print(\"Baseline Error: %.2f%%\" % (100-scores[1]*100))"
      ],
      "execution_count": null,
      "outputs": [
        {
          "output_type": "stream",
          "text": [
            "Epoch 1/5\n",
            "600/600 [==============================] - 7s 10ms/step - loss: 0.8542 - accuracy: 0.7597 - val_loss: 0.2430 - val_accuracy: 0.9281\n",
            "Epoch 2/5\n",
            "600/600 [==============================] - 6s 10ms/step - loss: 0.2246 - accuracy: 0.9347 - val_loss: 0.1782 - val_accuracy: 0.9468\n",
            "Epoch 3/5\n",
            "600/600 [==============================] - 6s 10ms/step - loss: 0.1577 - accuracy: 0.9519 - val_loss: 0.1357 - val_accuracy: 0.9601\n",
            "Epoch 4/5\n",
            "600/600 [==============================] - 6s 10ms/step - loss: 0.1180 - accuracy: 0.9637 - val_loss: 0.1081 - val_accuracy: 0.9661\n",
            "Epoch 5/5\n",
            "600/600 [==============================] - 6s 10ms/step - loss: 0.0888 - accuracy: 0.9743 - val_loss: 0.0890 - val_accuracy: 0.9716\n",
            "313/313 [==============================] - 1s 3ms/step - loss: 0.0890 - accuracy: 0.9716\n",
            "Baseline Error: 2.84%\n"
          ],
          "name": "stdout"
        }
      ]
    },
    {
      "cell_type": "code",
      "metadata": {
        "colab": {
          "base_uri": "https://localhost:8080/"
        },
        "id": "scu5CGluE2Jz",
        "outputId": "5c0477a9-9d28-47c0-a425-0b5683713be1"
      },
      "source": [
        "sigmoid_model.summary()\n",
        "#97%"
      ],
      "execution_count": null,
      "outputs": [
        {
          "output_type": "stream",
          "text": [
            "Model: \"sequential\"\n",
            "_________________________________________________________________\n",
            "Layer (type)                 Output Shape              Param #   \n",
            "=================================================================\n",
            "dense (Dense)                (None, 650)               510250    \n",
            "_________________________________________________________________\n",
            "dense_1 (Dense)              (None, 150)               97650     \n",
            "_________________________________________________________________\n",
            "dense_2 (Dense)              (None, 10)                1510      \n",
            "=================================================================\n",
            "Total params: 609,410\n",
            "Trainable params: 609,410\n",
            "Non-trainable params: 0\n",
            "_________________________________________________________________\n"
          ],
          "name": "stdout"
        }
      ]
    },
    {
      "cell_type": "code",
      "metadata": {
        "id": "eXwfRq5PFBUi"
      },
      "source": [
        "#now we will test softmax function in hidden layer\n",
        "softmax_model = Sequential()"
      ],
      "execution_count": null,
      "outputs": []
    },
    {
      "cell_type": "code",
      "metadata": {
        "id": "_xFMR8f5FX6X"
      },
      "source": [
        "#adding hidden layers to model\n",
        "\n",
        "softmax_model.add(Dense(650, input_dim=num_of_pixels, activation='sigmoid'))\n",
        "softmax_model.add(Dense(150, activation='softmax'))\n",
        "\n",
        "#adding output layer, using softmax activation function for multiclassification\n",
        "softmax_model.add(Dense(num_classes, activation='softmax'))"
      ],
      "execution_count": null,
      "outputs": []
    },
    {
      "cell_type": "code",
      "metadata": {
        "id": "iRubLRmDFh2N"
      },
      "source": [
        "softmax_model.compile(loss='categorical_crossentropy', optimizer='adam', metrics=['accuracy'])"
      ],
      "execution_count": null,
      "outputs": []
    },
    {
      "cell_type": "code",
      "metadata": {
        "colab": {
          "base_uri": "https://localhost:8080/"
        },
        "id": "M1BHuhAjFoEU",
        "outputId": "4e4fdc0a-5ae8-4c49-d674-5eb3c3914805"
      },
      "source": [
        "softmax_history = softmax_model.fit(X_train, y_train, validation_data=(X_test, y_test), epochs=5, batch_size=100)\n",
        "\n",
        "#finding scores\n",
        "scores = softmax_model.evaluate(X_test, y_test)\n",
        "\n",
        "#finally checking baseline error\n",
        "print(\"Baseline Error: %.2f%%\" % (100-scores[1]*100))"
      ],
      "execution_count": null,
      "outputs": [
        {
          "output_type": "stream",
          "text": [
            "Epoch 1/5\n",
            "600/600 [==============================] - 6s 10ms/step - loss: 2.0337 - accuracy: 0.4584 - val_loss: 1.4982 - val_accuracy: 0.5774\n",
            "Epoch 2/5\n",
            "600/600 [==============================] - 6s 10ms/step - loss: 1.3802 - accuracy: 0.5812 - val_loss: 1.1148 - val_accuracy: 0.5913\n",
            "Epoch 3/5\n",
            "600/600 [==============================] - 6s 10ms/step - loss: 1.0521 - accuracy: 0.5940 - val_loss: 0.9201 - val_accuracy: 0.6064\n",
            "Epoch 4/5\n",
            "600/600 [==============================] - 6s 10ms/step - loss: 0.8861 - accuracy: 0.6049 - val_loss: 0.8203 - val_accuracy: 0.6020\n",
            "Epoch 5/5\n",
            "600/600 [==============================] - 6s 10ms/step - loss: 0.7925 - accuracy: 0.6069 - val_loss: 0.7584 - val_accuracy: 0.6065\n",
            "313/313 [==============================] - 1s 3ms/step - loss: 0.7584 - accuracy: 0.6065\n",
            "Baseline Error: 39.35%\n"
          ],
          "name": "stdout"
        }
      ]
    },
    {
      "cell_type": "code",
      "metadata": {
        "colab": {
          "base_uri": "https://localhost:8080/"
        },
        "id": "2qj556kmFxLd",
        "outputId": "86f5e402-a627-40cf-8ab2-db873b177191"
      },
      "source": [
        "softmax_model.summary()\n",
        "#50%"
      ],
      "execution_count": null,
      "outputs": [
        {
          "output_type": "stream",
          "text": [
            "Model: \"sequential_1\"\n",
            "_________________________________________________________________\n",
            "Layer (type)                 Output Shape              Param #   \n",
            "=================================================================\n",
            "dense_3 (Dense)              (None, 650)               510250    \n",
            "_________________________________________________________________\n",
            "dense_4 (Dense)              (None, 150)               97650     \n",
            "_________________________________________________________________\n",
            "dense_5 (Dense)              (None, 10)                1510      \n",
            "=================================================================\n",
            "Total params: 609,410\n",
            "Trainable params: 609,410\n",
            "Non-trainable params: 0\n",
            "_________________________________________________________________\n"
          ],
          "name": "stdout"
        }
      ]
    },
    {
      "cell_type": "code",
      "metadata": {
        "id": "T805Y9pDGCtC"
      },
      "source": [
        "#now we will test relu function in hidden layer\n",
        "relu_model = Sequential()"
      ],
      "execution_count": null,
      "outputs": []
    },
    {
      "cell_type": "code",
      "metadata": {
        "id": "bHMRvtYpGKib"
      },
      "source": [
        "#adding hidden layers to model\n",
        "\n",
        "relu_model.add(Dense(650, input_dim=num_of_pixels, activation='sigmoid'))\n",
        "relu_model.add(Dense(150, activation='relu'))\n",
        "\n",
        "#adding output layer, using softmax activation function for multiclassification\n",
        "relu_model.add(Dense(num_classes, activation='softmax'))"
      ],
      "execution_count": null,
      "outputs": []
    },
    {
      "cell_type": "code",
      "metadata": {
        "id": "ef57dxFOGXxD"
      },
      "source": [
        "relu_model.compile(loss='categorical_crossentropy', optimizer='adam', metrics=['accuracy'])"
      ],
      "execution_count": null,
      "outputs": []
    },
    {
      "cell_type": "code",
      "metadata": {
        "colab": {
          "base_uri": "https://localhost:8080/"
        },
        "id": "gL4KdlGcGa7Q",
        "outputId": "93610252-63fd-4c40-ee87-be70f29524b0"
      },
      "source": [
        "relu_history = relu_model.fit(X_train, y_train, validation_data=(X_test, y_test), epochs=5, batch_size=100)\n",
        "\n",
        "#finding scores\n",
        "scores = relu_model.evaluate(X_test, y_test)\n",
        "\n",
        "#finally checking baseline error\n",
        "print(\"Baseline Error: %.2f%%\" % (100-scores[1]*100))"
      ],
      "execution_count": null,
      "outputs": [
        {
          "output_type": "stream",
          "text": [
            "Epoch 1/5\n",
            "600/600 [==============================] - 6s 10ms/step - loss: 0.6631 - accuracy: 0.8107 - val_loss: 0.2395 - val_accuracy: 0.9279\n",
            "Epoch 2/5\n",
            "600/600 [==============================] - 6s 10ms/step - loss: 0.2234 - accuracy: 0.9346 - val_loss: 0.1877 - val_accuracy: 0.9435\n",
            "Epoch 3/5\n",
            "600/600 [==============================] - 6s 10ms/step - loss: 0.1526 - accuracy: 0.9537 - val_loss: 0.1339 - val_accuracy: 0.9592\n",
            "Epoch 4/5\n",
            "600/600 [==============================] - 6s 10ms/step - loss: 0.1134 - accuracy: 0.9663 - val_loss: 0.1048 - val_accuracy: 0.9673\n",
            "Epoch 5/5\n",
            "600/600 [==============================] - 6s 10ms/step - loss: 0.0855 - accuracy: 0.9739 - val_loss: 0.1046 - val_accuracy: 0.9676\n",
            "313/313 [==============================] - 1s 3ms/step - loss: 0.1046 - accuracy: 0.9676\n",
            "Baseline Error: 3.24%\n"
          ],
          "name": "stdout"
        }
      ]
    },
    {
      "cell_type": "code",
      "metadata": {
        "colab": {
          "base_uri": "https://localhost:8080/"
        },
        "id": "0DX3FBK1Glfo",
        "outputId": "9e0e73bf-9d0e-43d1-d19e-d7ea9e4f1ca1"
      },
      "source": [
        "relu_model.summary()\n",
        "#96% accuracy"
      ],
      "execution_count": null,
      "outputs": [
        {
          "output_type": "stream",
          "text": [
            "Model: \"sequential_2\"\n",
            "_________________________________________________________________\n",
            "Layer (type)                 Output Shape              Param #   \n",
            "=================================================================\n",
            "dense_6 (Dense)              (None, 650)               510250    \n",
            "_________________________________________________________________\n",
            "dense_7 (Dense)              (None, 150)               97650     \n",
            "_________________________________________________________________\n",
            "dense_8 (Dense)              (None, 10)                1510      \n",
            "=================================================================\n",
            "Total params: 609,410\n",
            "Trainable params: 609,410\n",
            "Non-trainable params: 0\n",
            "_________________________________________________________________\n"
          ],
          "name": "stdout"
        }
      ]
    },
    {
      "cell_type": "code",
      "metadata": {
        "id": "X1cyLZM7HFLr"
      },
      "source": [
        "#now we will test tanh function in hidden layer\n",
        "tanh_model = Sequential()"
      ],
      "execution_count": null,
      "outputs": []
    },
    {
      "cell_type": "code",
      "metadata": {
        "id": "SiDeVYe5HXSe"
      },
      "source": [
        "#adding hidden layers to model\n",
        "\n",
        "tanh_model.add(Dense(650, input_dim=num_of_pixels, activation='sigmoid'))\n",
        "tanh_model.add(Dense(150, activation='tanh'))\n",
        "\n",
        "#adding output layer, using softmax activation function for multiclassification\n",
        "tanh_model.add(Dense(num_classes, activation='softmax'))"
      ],
      "execution_count": null,
      "outputs": []
    },
    {
      "cell_type": "code",
      "metadata": {
        "id": "8Sk3R1ZlH2ct"
      },
      "source": [
        "tanh_model.compile(loss='categorical_crossentropy', optimizer='adam', metrics=['accuracy'])"
      ],
      "execution_count": null,
      "outputs": []
    },
    {
      "cell_type": "code",
      "metadata": {
        "colab": {
          "base_uri": "https://localhost:8080/"
        },
        "id": "My0aIiwWH_E-",
        "outputId": "c0b2220d-7965-4724-d3f9-11e442b191c7"
      },
      "source": [
        "tanh_history = tanh_model.fit(X_train, y_train, validation_data=(X_test, y_test), epochs=5, batch_size=100)\n",
        "\n",
        "#finding scores\n",
        "scores = tanh_model.evaluate(X_test, y_test)\n",
        "\n",
        "#finally checking baseline error\n",
        "print(\"Baseline Error: %.2f%%\" % (100-scores[1]*100))"
      ],
      "execution_count": null,
      "outputs": [
        {
          "output_type": "stream",
          "text": [
            "Epoch 1/5\n",
            "600/600 [==============================] - 6s 10ms/step - loss: 0.6150 - accuracy: 0.8166 - val_loss: 0.2173 - val_accuracy: 0.9346\n",
            "Epoch 2/5\n",
            "600/600 [==============================] - 6s 10ms/step - loss: 0.2081 - accuracy: 0.9364 - val_loss: 0.1567 - val_accuracy: 0.9510\n",
            "Epoch 3/5\n",
            "600/600 [==============================] - 6s 10ms/step - loss: 0.1421 - accuracy: 0.9576 - val_loss: 0.1257 - val_accuracy: 0.9613\n",
            "Epoch 4/5\n",
            "600/600 [==============================] - 6s 10ms/step - loss: 0.1006 - accuracy: 0.9694 - val_loss: 0.0956 - val_accuracy: 0.9704\n",
            "Epoch 5/5\n",
            "600/600 [==============================] - 6s 10ms/step - loss: 0.0777 - accuracy: 0.9756 - val_loss: 0.0875 - val_accuracy: 0.9738\n",
            "313/313 [==============================] - 1s 3ms/step - loss: 0.0875 - accuracy: 0.9738\n",
            "Baseline Error: 2.62%\n"
          ],
          "name": "stdout"
        }
      ]
    },
    {
      "cell_type": "code",
      "metadata": {
        "colab": {
          "base_uri": "https://localhost:8080/"
        },
        "id": "XKdAfJmEIHL9",
        "outputId": "dce1d7ea-9c17-4060-b1a7-44245d6c2eb4"
      },
      "source": [
        "tanh_model.summary()\n",
        "#97%"
      ],
      "execution_count": null,
      "outputs": [
        {
          "output_type": "stream",
          "text": [
            "Model: \"sequential_3\"\n",
            "_________________________________________________________________\n",
            "Layer (type)                 Output Shape              Param #   \n",
            "=================================================================\n",
            "dense_9 (Dense)              (None, 650)               510250    \n",
            "_________________________________________________________________\n",
            "dense_10 (Dense)             (None, 150)               97650     \n",
            "_________________________________________________________________\n",
            "dense_11 (Dense)             (None, 10)                1510      \n",
            "=================================================================\n",
            "Total params: 609,410\n",
            "Trainable params: 609,410\n",
            "Non-trainable params: 0\n",
            "_________________________________________________________________\n"
          ],
          "name": "stdout"
        }
      ]
    },
    {
      "cell_type": "code",
      "metadata": {
        "id": "q0X-0J9UIZU5"
      },
      "source": [
        "#binary step model\n",
        "softsign_model = Sequential()"
      ],
      "execution_count": null,
      "outputs": []
    },
    {
      "cell_type": "code",
      "metadata": {
        "id": "FFjDYVmgKgma"
      },
      "source": [
        "#adding hidden layers to model\n",
        "\n",
        "softsign_model.add(Dense(650, input_dim=num_of_pixels, activation='sigmoid'))\n",
        "softsign_model.add(Dense(150, activation='softsign'))\n",
        "\n",
        "#adding output layer, using softmax activation function for multiclassification\n",
        "softsign_model.add(Dense(num_classes, activation='softmax'))"
      ],
      "execution_count": null,
      "outputs": []
    },
    {
      "cell_type": "code",
      "metadata": {
        "id": "Or1-u7uSL61x"
      },
      "source": [
        "softsign_model.compile(loss='categorical_crossentropy', optimizer='adam', metrics=['accuracy'])"
      ],
      "execution_count": null,
      "outputs": []
    },
    {
      "cell_type": "code",
      "metadata": {
        "colab": {
          "base_uri": "https://localhost:8080/"
        },
        "id": "vSz2wuhVMBqn",
        "outputId": "1a2959ac-2f51-481d-9c13-dea1834f39bd"
      },
      "source": [
        "softsign_history = softsign_model.fit(X_train, y_train, validation_data=(X_test, y_test), epochs=5, batch_size=100)\n",
        "\n",
        "#finding scores\n",
        "scores = softsign_model.evaluate(X_test, y_test)\n",
        "\n",
        "#finally checking baseline error\n",
        "print(\"Baseline Error: %.2f%%\" % (100-scores[1]*100))"
      ],
      "execution_count": null,
      "outputs": [
        {
          "output_type": "stream",
          "text": [
            "Epoch 1/5\n",
            "600/600 [==============================] - 6s 10ms/step - loss: 0.6923 - accuracy: 0.8074 - val_loss: 0.2221 - val_accuracy: 0.9347\n",
            "Epoch 2/5\n",
            "600/600 [==============================] - 6s 10ms/step - loss: 0.2023 - accuracy: 0.9401 - val_loss: 0.1647 - val_accuracy: 0.9495\n",
            "Epoch 3/5\n",
            "600/600 [==============================] - 6s 10ms/step - loss: 0.1362 - accuracy: 0.9593 - val_loss: 0.1268 - val_accuracy: 0.9603\n",
            "Epoch 4/5\n",
            "600/600 [==============================] - 6s 10ms/step - loss: 0.1041 - accuracy: 0.9687 - val_loss: 0.1066 - val_accuracy: 0.9656\n",
            "Epoch 5/5\n",
            "600/600 [==============================] - 6s 10ms/step - loss: 0.0794 - accuracy: 0.9769 - val_loss: 0.0906 - val_accuracy: 0.9728\n",
            "313/313 [==============================] - 1s 3ms/step - loss: 0.0906 - accuracy: 0.9728\n",
            "Baseline Error: 2.72%\n"
          ],
          "name": "stdout"
        }
      ]
    },
    {
      "cell_type": "code",
      "metadata": {
        "colab": {
          "base_uri": "https://localhost:8080/"
        },
        "id": "HDSLz4p-MUQi",
        "outputId": "87af0dd0-5f86-4acd-fa87-84efcf87fd64"
      },
      "source": [
        "softsign_model.summary()\n",
        "#accuracy = 97.4"
      ],
      "execution_count": null,
      "outputs": [
        {
          "output_type": "stream",
          "text": [
            "Model: \"sequential_4\"\n",
            "_________________________________________________________________\n",
            "Layer (type)                 Output Shape              Param #   \n",
            "=================================================================\n",
            "dense_12 (Dense)             (None, 650)               510250    \n",
            "_________________________________________________________________\n",
            "dense_13 (Dense)             (None, 150)               97650     \n",
            "_________________________________________________________________\n",
            "dense_14 (Dense)             (None, 10)                1510      \n",
            "=================================================================\n",
            "Total params: 609,410\n",
            "Trainable params: 609,410\n",
            "Non-trainable params: 0\n",
            "_________________________________________________________________\n"
          ],
          "name": "stdout"
        }
      ]
    },
    {
      "cell_type": "code",
      "metadata": {
        "colab": {
          "base_uri": "https://localhost:8080/"
        },
        "id": "GECnW1voTrng",
        "outputId": "22f62e56-b6d8-4580-bb91-642a31442a8d"
      },
      "source": [
        "plt.suptitle(\"Combined Accuracy of different activation functions\")\n",
        "plt.plot(softmax_history.history['accuracy'])\n",
        "plt.plot(relu_history.history['accuracy'])\n",
        "plt.plot(softsign_history.history['accuracy'])\n",
        "plt.plot(sigmoid_history.history['accuracy'])\n",
        "plt.plot(tanh_history.history['accuracy'])"
      ],
      "execution_count": null,
      "outputs": [
        {
          "output_type": "execute_result",
          "data": {
            "text/plain": [
              "[<matplotlib.lines.Line2D at 0x7f2444c246d0>]"
            ]
          },
          "metadata": {
            "tags": []
          },
          "execution_count": 30
        },
        {
          "output_type": "display_data",
          "data": {
            "image/png": "[encoded data removed]",
            "text/plain": [
              "<Figure size 432x288 with 1 Axes>"
            ]
          },
          "metadata": {
            "tags": [],
            "needs_background": "light"
          }
        }
      ]
    }
  ]
}